{
  "nbformat": 4,
  "nbformat_minor": 0,
  "metadata": {
    "colab": {
      "name": "wait-time-prediction.ipynb",
      "provenance": [],
      "toc_visible": true,
      "authorship_tag": "ABX9TyMywVG7Vde9puRl6SqAmOkh",
      "include_colab_link": true
    },
    "kernelspec": {
      "name": "python3",
      "display_name": "Python 3"
    },
    "language_info": {
      "name": "python"
    }
  },
  "cells": [
    {
      "cell_type": "markdown",
      "metadata": {
        "id": "view-in-github",
        "colab_type": "text"
      },
      "source": [
        "<a href=\"https://colab.research.google.com/github/vanderbilt-ml/50-nelson-mlproj-waittime/blob/main/wait_time_prediction.ipynb\" target=\"_parent\"><img src=\"https://colab.research.google.com/assets/colab-badge.svg\" alt=\"Open In Colab\"/></a>"
      ]
    },
    {
      "cell_type": "markdown",
      "source": [
        "# Wait Time Prediction\n"
      ],
      "metadata": {
        "id": "1_o3p2JbuOej"
      }
    },
    {
      "cell_type": "markdown",
      "source": [
        "## Background\n",
        "\n",
        "Recently when planning an upcoming vacation I discovered that a company called Touringplans (touringplans.com) has many publically available data sets with captured wait times for attractions at Walt Disney World in Florida dating back to 2015. I'm intrigued by this data and am interested in building a predective model using the historical wait time data to help forecast future wait times."
      ],
      "metadata": {
        "id": "CyDtkGQfub1T"
      }
    },
    {
      "cell_type": "markdown",
      "source": [
        "## Project Description\n",
        "\n",
        "Using the captured historical wait time data I would like to create a predictive model that will help myself to understand future wait times of attractions at Walt Disney World in Florida."
      ],
      "metadata": {
        "id": "TO1nCcOWud2s"
      }
    },
    {
      "cell_type": "markdown",
      "source": [
        "## Performance Metric\n",
        "Given the abundance of available data I imagine I will be able to split the data into both training and testing data. I would like to be able to create a predictive model with somewhere in the 80-90% accuracy range. At this point however I have no clue if that is possible."
      ],
      "metadata": {
        "id": "DWbz0DXMutMG"
      }
    }
  ]
}